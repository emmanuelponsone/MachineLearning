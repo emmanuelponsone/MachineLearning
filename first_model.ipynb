{
  "nbformat": 4,
  "nbformat_minor": 0,
  "metadata": {
    "colab": {
      "provenance": [],
      "authorship_tag": "ABX9TyMJSEiT9Bw8FG2eem7y7/Uq",
      "include_colab_link": true
    },
    "kernelspec": {
      "name": "python3",
      "display_name": "Python 3"
    },
    "language_info": {
      "name": "python"
    }
  },
  "cells": [
    {
      "cell_type": "markdown",
      "metadata": {
        "id": "view-in-github",
        "colab_type": "text"
      },
      "source": [
        "<a href=\"https://colab.research.google.com/github/emmanuelponsone/MachineLearning/blob/main/first_model.ipynb\" target=\"_parent\"><img src=\"https://colab.research.google.com/assets/colab-badge.svg\" alt=\"Open In Colab\"/></a>"
      ]
    },
    {
      "cell_type": "markdown",
      "source": [
        "## Set DataSet"
      ],
      "metadata": {
        "id": "mqCuCTfswaaf"
      }
    },
    {
      "cell_type": "code",
      "source": [
        "import torch\n",
        "from torch import nn\n",
        "import matplotlib.pyplot as plt\n"
      ],
      "metadata": {
        "id": "M2KOEZwMvOWZ"
      },
      "execution_count": 20,
      "outputs": []
    },
    {
      "cell_type": "code",
      "source": [
        "start = 0\n",
        "end = 1\n",
        "step = 0.02\n",
        "weight = 0.7\n",
        "bias = 0.3\n",
        "\n",
        "\n",
        "X = torch.arange(start, end, step).unsqueeze(dim = 1)\n",
        "Y = weight*X + bias"
      ],
      "metadata": {
        "id": "Ol3_x2VIvjog"
      },
      "execution_count": 11,
      "outputs": []
    },
    {
      "cell_type": "code",
      "source": [
        "Y"
      ],
      "metadata": {
        "colab": {
          "base_uri": "https://localhost:8080/"
        },
        "id": "kkvQrjr2v6pZ",
        "outputId": "d4d2f649-b9dc-46b1-aeaa-bfe6eb03affc"
      },
      "execution_count": 13,
      "outputs": [
        {
          "output_type": "execute_result",
          "data": {
            "text/plain": [
              "tensor([[0.3000],\n",
              "        [0.3140],\n",
              "        [0.3280],\n",
              "        [0.3420],\n",
              "        [0.3560],\n",
              "        [0.3700],\n",
              "        [0.3840],\n",
              "        [0.3980],\n",
              "        [0.4120],\n",
              "        [0.4260],\n",
              "        [0.4400],\n",
              "        [0.4540],\n",
              "        [0.4680],\n",
              "        [0.4820],\n",
              "        [0.4960],\n",
              "        [0.5100],\n",
              "        [0.5240],\n",
              "        [0.5380],\n",
              "        [0.5520],\n",
              "        [0.5660],\n",
              "        [0.5800],\n",
              "        [0.5940],\n",
              "        [0.6080],\n",
              "        [0.6220],\n",
              "        [0.6360],\n",
              "        [0.6500],\n",
              "        [0.6640],\n",
              "        [0.6780],\n",
              "        [0.6920],\n",
              "        [0.7060],\n",
              "        [0.7200],\n",
              "        [0.7340],\n",
              "        [0.7480],\n",
              "        [0.7620],\n",
              "        [0.7760],\n",
              "        [0.7900],\n",
              "        [0.8040],\n",
              "        [0.8180],\n",
              "        [0.8320],\n",
              "        [0.8460],\n",
              "        [0.8600],\n",
              "        [0.8740],\n",
              "        [0.8880],\n",
              "        [0.9020],\n",
              "        [0.9160],\n",
              "        [0.9300],\n",
              "        [0.9440],\n",
              "        [0.9580],\n",
              "        [0.9720],\n",
              "        [0.9860]])"
            ]
          },
          "metadata": {},
          "execution_count": 13
        }
      ]
    },
    {
      "cell_type": "markdown",
      "source": [
        "## Splitting Data"
      ],
      "metadata": {
        "id": "fGQBjzF3xJdG"
      }
    },
    {
      "cell_type": "code",
      "source": [
        "split_train = int(0.8*len(X))"
      ],
      "metadata": {
        "id": "CjJOcgDOv7UI"
      },
      "execution_count": 17,
      "outputs": []
    },
    {
      "cell_type": "code",
      "source": [
        "X_train, Y_train = X[:split_train], Y[:split_train]"
      ],
      "metadata": {
        "id": "jhYwVXY0w59V"
      },
      "execution_count": 18,
      "outputs": []
    },
    {
      "cell_type": "code",
      "source": [
        "X_test, Y_test = X[split_train:], Y[split_train:]"
      ],
      "metadata": {
        "id": "L2mZb5--w7y-"
      },
      "execution_count": 21,
      "outputs": []
    },
    {
      "cell_type": "markdown",
      "source": [
        "## Plot"
      ],
      "metadata": {
        "id": "I8ewuoUeyF24"
      }
    },
    {
      "cell_type": "code",
      "source": [
        "def plot_predictions (train_data = X_train, train_labels = Y_train, test_data = X_test, test_labels = Y_test, predictions = None):\n",
        "  \n",
        "  plt.figure(figsize = (10,7))\n",
        "\n",
        "  #Plot training data in blue\n",
        "  plt.scatter(train_data, train_labels, c = \"b\", s = 4, label = \"Training DataSet\")\n",
        "\n",
        "  #Plot test data in green\n",
        "  plt.scatter(test_data, test_labels, c =\"g\", s = 4, label = \"Test DataSet\")\n",
        "\n",
        "  if predictions is not None:\n",
        "    #plot predictions in red\n",
        "    plt.scatter(test_data, predictions, c =\"r\", labels = \"Predictions\")\n",
        "\n",
        "  plt.legend(prop = {\"size\": 14})\n",
        "\n",
        "\n"
      ],
      "metadata": {
        "id": "Z4cATP5CyHmO"
      },
      "execution_count": 23,
      "outputs": []
    },
    {
      "cell_type": "code",
      "source": [
        "plot_predictions()"
      ],
      "metadata": {
        "colab": {
          "base_uri": "https://localhost:8080/",
          "height": 599
        },
        "id": "zj4uNVxqyx8_",
        "outputId": "0b2d7c02-90f7-4bc3-f241-3fe7d283a946"
      },
      "execution_count": 24,
      "outputs": [
        {
          "output_type": "display_data",
          "data": {
            "text/plain": [
              "<Figure size 1000x700 with 1 Axes>"
            ],
            "image/png": "[encoded data removed]"
          },
          "metadata": {}
        }
      ]
    },
    {
      "cell_type": "markdown",
      "source": [
        "#BUILD MODEL!!!\n",
        "Linear regression model\n",
        "\n",
        "Nuestro modelo hace lo siguiente:\n",
        "* Comienza con valores random en peso y ordenada al origen\n",
        "* Observa los datos de entrenamiento y ajusta\n",
        "\n",
        "Como lo hace?\n",
        "\n",
        "A travéz de 2 algoritmos principales:\n",
        "* Descenso de gradiente\n",
        "* Retropropagación"
      ],
      "metadata": {
        "id": "gxo6t3IN0u-u"
      }
    },
    {
      "cell_type": "code",
      "source": [
        "#Linear regr model class\n",
        "\n",
        "class LinearRegressionModel(nn.Module):\n",
        "  def __init__ (self):\n",
        "    super().__init__()\n",
        "    self.weights = nn.Parameter(torch.randn(1, \n",
        "                                            requires_grad=True, \n",
        "                                            dtype=torch.float))\n",
        "    \n",
        "    self.bias = nn.Parameter(torch.randn(1,\n",
        "                                         requires_grad=True,\n",
        "                                         dtype = torch.float))\n",
        "    \n",
        "\n",
        "  #Forward method to define the computation in the model\n",
        "  def forward(self, x: torch.Tensor) -> torch.Tensor:\n",
        "    return self.weight*x + self.bias\n",
        "\n",
        "\n"
      ],
      "metadata": {
        "id": "ZBdo1ArW0x4W"
      },
      "execution_count": 26,
      "outputs": []
    },
    {
      "cell_type": "code",
      "source": [],
      "metadata": {
        "id": "bj0Roby66OWZ"
      },
      "execution_count": null,
      "outputs": []
    }
  ]
}